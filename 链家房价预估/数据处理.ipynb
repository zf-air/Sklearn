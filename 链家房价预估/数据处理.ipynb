{
 "metadata": {
  "language_info": {
   "codemirror_mode": {
    "name": "ipython",
    "version": 3
   },
   "file_extension": ".py",
   "mimetype": "text/x-python",
   "name": "python",
   "nbconvert_exporter": "python",
   "pygments_lexer": "ipython3",
   "version": "3.7.6"
  },
  "orig_nbformat": 4,
  "kernelspec": {
   "name": "python3",
   "display_name": "Python 3.7.6 64-bit ('base': conda)"
  },
  "interpreter": {
   "hash": "4905652b14e4b7eb92899b78ac499a22c488804455b27940a322fd82aaf71031"
  }
 },
 "nbformat": 4,
 "nbformat_minor": 2,
 "cells": [
  {
   "source": [
    "## 用的话只需要更改read_csv的文件路径和to_csv的文件路径"
   ],
   "cell_type": "markdown",
   "metadata": {}
  },
  {
   "source": [
    "## 1.导入库"
   ],
   "cell_type": "markdown",
   "metadata": {}
  },
  {
   "cell_type": "code",
   "execution_count": 26,
   "metadata": {},
   "outputs": [],
   "source": [
    "from sklearn.feature_extraction import DictVectorizer\n",
    "import matplotlib.pyplot as plt\n",
    "import pandas as pd\n",
    "import numpy as np"
   ]
  },
  {
   "source": [
    "## 2.读入数据"
   ],
   "cell_type": "markdown",
   "metadata": {}
  },
  {
   "cell_type": "code",
   "execution_count": 27,
   "metadata": {},
   "outputs": [
    {
     "output_type": "execute_result",
     "data": {
      "text/plain": [
       "      城市   区域    户型      面积   朝向  装修  楼层    板塔     房价\n",
       "0     郑州  高新区  3室2厅   87.27    南  精装  34    板楼  130.0\n",
       "1     郑州  高新区  4室2厅  131.03   南北  精装  27  板塔结合  255.0\n",
       "2     郑州  高新区  4室2厅  128.21  南西北  精装  34    板楼  165.0\n",
       "3     郑州  高新区  3室1厅   87.74    南  简装   7    板楼  136.0\n",
       "4     郑州  高新区  3室2厅   90.65    南  精装  32  板塔结合  126.0\n",
       "...   ..  ...   ...     ...  ...  ..  ..   ...    ...\n",
       "2228  郑州  高新区  3室1厅   45.87   西南  精装  18    板楼  200.0\n",
       "2229  郑州  高新区  3室2厅  120.53   南北  简装  32  板塔结合  210.0\n",
       "2230  郑州  高新区  2室1厅  120.53    西  其他   9    板楼   60.0\n",
       "2231  郑州  高新区  2室1厅  120.53   东南  精装  20  板塔结合   68.0\n",
       "2232  郑州  高新区  3室2厅  128.14   东南  毛坯  34    板楼  148.0\n",
       "\n",
       "[2233 rows x 9 columns]"
      ],
      "text/html": "<div>\n<style scoped>\n    .dataframe tbody tr th:only-of-type {\n        vertical-align: middle;\n    }\n\n    .dataframe tbody tr th {\n        vertical-align: top;\n    }\n\n    .dataframe thead th {\n        text-align: right;\n    }\n</style>\n<table border=\"1\" class=\"dataframe\">\n  <thead>\n    <tr style=\"text-align: right;\">\n      <th></th>\n      <th>城市</th>\n      <th>区域</th>\n      <th>户型</th>\n      <th>面积</th>\n      <th>朝向</th>\n      <th>装修</th>\n      <th>楼层</th>\n      <th>板塔</th>\n      <th>房价</th>\n    </tr>\n  </thead>\n  <tbody>\n    <tr>\n      <th>0</th>\n      <td>郑州</td>\n      <td>高新区</td>\n      <td>3室2厅</td>\n      <td>87.27</td>\n      <td>南</td>\n      <td>精装</td>\n      <td>34</td>\n      <td>板楼</td>\n      <td>130.0</td>\n    </tr>\n    <tr>\n      <th>1</th>\n      <td>郑州</td>\n      <td>高新区</td>\n      <td>4室2厅</td>\n      <td>131.03</td>\n      <td>南北</td>\n      <td>精装</td>\n      <td>27</td>\n      <td>板塔结合</td>\n      <td>255.0</td>\n    </tr>\n    <tr>\n      <th>2</th>\n      <td>郑州</td>\n      <td>高新区</td>\n      <td>4室2厅</td>\n      <td>128.21</td>\n      <td>南西北</td>\n      <td>精装</td>\n      <td>34</td>\n      <td>板楼</td>\n      <td>165.0</td>\n    </tr>\n    <tr>\n      <th>3</th>\n      <td>郑州</td>\n      <td>高新区</td>\n      <td>3室1厅</td>\n      <td>87.74</td>\n      <td>南</td>\n      <td>简装</td>\n      <td>7</td>\n      <td>板楼</td>\n      <td>136.0</td>\n    </tr>\n    <tr>\n      <th>4</th>\n      <td>郑州</td>\n      <td>高新区</td>\n      <td>3室2厅</td>\n      <td>90.65</td>\n      <td>南</td>\n      <td>精装</td>\n      <td>32</td>\n      <td>板塔结合</td>\n      <td>126.0</td>\n    </tr>\n    <tr>\n      <th>...</th>\n      <td>...</td>\n      <td>...</td>\n      <td>...</td>\n      <td>...</td>\n      <td>...</td>\n      <td>...</td>\n      <td>...</td>\n      <td>...</td>\n      <td>...</td>\n    </tr>\n    <tr>\n      <th>2228</th>\n      <td>郑州</td>\n      <td>高新区</td>\n      <td>3室1厅</td>\n      <td>45.87</td>\n      <td>西南</td>\n      <td>精装</td>\n      <td>18</td>\n      <td>板楼</td>\n      <td>200.0</td>\n    </tr>\n    <tr>\n      <th>2229</th>\n      <td>郑州</td>\n      <td>高新区</td>\n      <td>3室2厅</td>\n      <td>120.53</td>\n      <td>南北</td>\n      <td>简装</td>\n      <td>32</td>\n      <td>板塔结合</td>\n      <td>210.0</td>\n    </tr>\n    <tr>\n      <th>2230</th>\n      <td>郑州</td>\n      <td>高新区</td>\n      <td>2室1厅</td>\n      <td>120.53</td>\n      <td>西</td>\n      <td>其他</td>\n      <td>9</td>\n      <td>板楼</td>\n      <td>60.0</td>\n    </tr>\n    <tr>\n      <th>2231</th>\n      <td>郑州</td>\n      <td>高新区</td>\n      <td>2室1厅</td>\n      <td>120.53</td>\n      <td>东南</td>\n      <td>精装</td>\n      <td>20</td>\n      <td>板塔结合</td>\n      <td>68.0</td>\n    </tr>\n    <tr>\n      <th>2232</th>\n      <td>郑州</td>\n      <td>高新区</td>\n      <td>3室2厅</td>\n      <td>128.14</td>\n      <td>东南</td>\n      <td>毛坯</td>\n      <td>34</td>\n      <td>板楼</td>\n      <td>148.0</td>\n    </tr>\n  </tbody>\n</table>\n<p>2233 rows × 9 columns</p>\n</div>"
     },
     "metadata": {},
     "execution_count": 27
    }
   ],
   "source": [
    "df = pd.read_csv('郑州高新区链家.csv','|',names = ['城市','区域','户型','面积','朝向','装修','楼层','板塔','房价'])\n",
    "df"
   ]
  },
  {
   "source": [
    "## 3.数据清洗"
   ],
   "cell_type": "markdown",
   "metadata": {}
  },
  {
   "cell_type": "code",
   "execution_count": 28,
   "metadata": {},
   "outputs": [
    {
     "output_type": "execute_result",
     "data": {
      "text/plain": [
       "      城市   区域    户型      面积   朝向  装修  楼层    板塔     房价\n",
       "0     郑州  高新区  3室2厅   87.27    南  精装  34    板楼  130.0\n",
       "1     郑州  高新区  4室2厅  131.03   南北  精装  27  板塔结合  255.0\n",
       "2     郑州  高新区  4室2厅  128.21  南西北  精装  34    板楼  165.0\n",
       "3     郑州  高新区  3室1厅   87.74    南  简装   7    板楼  136.0\n",
       "4     郑州  高新区  3室2厅   90.65    南  精装  32  板塔结合  126.0\n",
       "...   ..  ...   ...     ...  ...  ..  ..   ...    ...\n",
       "2228  郑州  高新区  3室1厅   45.87   西南  精装  18    板楼  200.0\n",
       "2229  郑州  高新区  3室2厅  120.53   南北  简装  32  板塔结合  210.0\n",
       "2230  郑州  高新区  2室1厅  120.53    西  其他   9    板楼   60.0\n",
       "2231  郑州  高新区  2室1厅  120.53   东南  精装  20  板塔结合   68.0\n",
       "2232  郑州  高新区  3室2厅  128.14   东南  毛坯  34    板楼  148.0\n",
       "\n",
       "[2079 rows x 9 columns]"
      ],
      "text/html": "<div>\n<style scoped>\n    .dataframe tbody tr th:only-of-type {\n        vertical-align: middle;\n    }\n\n    .dataframe tbody tr th {\n        vertical-align: top;\n    }\n\n    .dataframe thead th {\n        text-align: right;\n    }\n</style>\n<table border=\"1\" class=\"dataframe\">\n  <thead>\n    <tr style=\"text-align: right;\">\n      <th></th>\n      <th>城市</th>\n      <th>区域</th>\n      <th>户型</th>\n      <th>面积</th>\n      <th>朝向</th>\n      <th>装修</th>\n      <th>楼层</th>\n      <th>板塔</th>\n      <th>房价</th>\n    </tr>\n  </thead>\n  <tbody>\n    <tr>\n      <th>0</th>\n      <td>郑州</td>\n      <td>高新区</td>\n      <td>3室2厅</td>\n      <td>87.27</td>\n      <td>南</td>\n      <td>精装</td>\n      <td>34</td>\n      <td>板楼</td>\n      <td>130.0</td>\n    </tr>\n    <tr>\n      <th>1</th>\n      <td>郑州</td>\n      <td>高新区</td>\n      <td>4室2厅</td>\n      <td>131.03</td>\n      <td>南北</td>\n      <td>精装</td>\n      <td>27</td>\n      <td>板塔结合</td>\n      <td>255.0</td>\n    </tr>\n    <tr>\n      <th>2</th>\n      <td>郑州</td>\n      <td>高新区</td>\n      <td>4室2厅</td>\n      <td>128.21</td>\n      <td>南西北</td>\n      <td>精装</td>\n      <td>34</td>\n      <td>板楼</td>\n      <td>165.0</td>\n    </tr>\n    <tr>\n      <th>3</th>\n      <td>郑州</td>\n      <td>高新区</td>\n      <td>3室1厅</td>\n      <td>87.74</td>\n      <td>南</td>\n      <td>简装</td>\n      <td>7</td>\n      <td>板楼</td>\n      <td>136.0</td>\n    </tr>\n    <tr>\n      <th>4</th>\n      <td>郑州</td>\n      <td>高新区</td>\n      <td>3室2厅</td>\n      <td>90.65</td>\n      <td>南</td>\n      <td>精装</td>\n      <td>32</td>\n      <td>板塔结合</td>\n      <td>126.0</td>\n    </tr>\n    <tr>\n      <th>...</th>\n      <td>...</td>\n      <td>...</td>\n      <td>...</td>\n      <td>...</td>\n      <td>...</td>\n      <td>...</td>\n      <td>...</td>\n      <td>...</td>\n      <td>...</td>\n    </tr>\n    <tr>\n      <th>2228</th>\n      <td>郑州</td>\n      <td>高新区</td>\n      <td>3室1厅</td>\n      <td>45.87</td>\n      <td>西南</td>\n      <td>精装</td>\n      <td>18</td>\n      <td>板楼</td>\n      <td>200.0</td>\n    </tr>\n    <tr>\n      <th>2229</th>\n      <td>郑州</td>\n      <td>高新区</td>\n      <td>3室2厅</td>\n      <td>120.53</td>\n      <td>南北</td>\n      <td>简装</td>\n      <td>32</td>\n      <td>板塔结合</td>\n      <td>210.0</td>\n    </tr>\n    <tr>\n      <th>2230</th>\n      <td>郑州</td>\n      <td>高新区</td>\n      <td>2室1厅</td>\n      <td>120.53</td>\n      <td>西</td>\n      <td>其他</td>\n      <td>9</td>\n      <td>板楼</td>\n      <td>60.0</td>\n    </tr>\n    <tr>\n      <th>2231</th>\n      <td>郑州</td>\n      <td>高新区</td>\n      <td>2室1厅</td>\n      <td>120.53</td>\n      <td>东南</td>\n      <td>精装</td>\n      <td>20</td>\n      <td>板塔结合</td>\n      <td>68.0</td>\n    </tr>\n    <tr>\n      <th>2232</th>\n      <td>郑州</td>\n      <td>高新区</td>\n      <td>3室2厅</td>\n      <td>128.14</td>\n      <td>东南</td>\n      <td>毛坯</td>\n      <td>34</td>\n      <td>板楼</td>\n      <td>148.0</td>\n    </tr>\n  </tbody>\n</table>\n<p>2079 rows × 9 columns</p>\n</div>"
     },
     "metadata": {},
     "execution_count": 28
    }
   ],
   "source": [
    "df.shape\n",
    "df.dropna()\n",
    "df.drop_duplicates()"
   ]
  },
  {
   "source": [
    "### 3.1获取房价"
   ],
   "cell_type": "markdown",
   "metadata": {}
  },
  {
   "cell_type": "code",
   "execution_count": 29,
   "metadata": {},
   "outputs": [
    {
     "output_type": "execute_result",
     "data": {
      "text/plain": [
       "0       130.0\n",
       "1       255.0\n",
       "2       165.0\n",
       "3       136.0\n",
       "4       126.0\n",
       "        ...  \n",
       "2228    200.0\n",
       "2229    210.0\n",
       "2230     60.0\n",
       "2231     68.0\n",
       "2232    148.0\n",
       "Name: 房价, Length: 2233, dtype: float64"
      ]
     },
     "metadata": {},
     "execution_count": 29
    }
   ],
   "source": [
    "Y_FangJia = df['房价']\n",
    "Y_FangJia"
   ]
  },
  {
   "source": [
    "### 3.2户型"
   ],
   "cell_type": "markdown",
   "metadata": {}
  },
  {
   "cell_type": "code",
   "execution_count": 30,
   "metadata": {},
   "outputs": [
    {
     "output_type": "execute_result",
     "data": {
      "text/plain": [
       "3室2厅    717\n",
       "2室1厅    425\n",
       "2室2厅    390\n",
       "3室1厅    237\n",
       "1室1厅    163\n",
       "1室0厅    131\n",
       "4室2厅    116\n",
       "4室1厅     21\n",
       "5室2厅     10\n",
       "5室3厅      5\n",
       "4室3厅      5\n",
       "1室2厅      4\n",
       "6室3厅      3\n",
       "5室1厅      2\n",
       "9室3厅      1\n",
       "2室0厅      1\n",
       "6室2厅      1\n",
       "6室7厅      1\n",
       "Name: 户型, dtype: int64"
      ]
     },
     "metadata": {},
     "execution_count": 30
    }
   ],
   "source": [
    "X_HuXing = df['户型']\n",
    "X_HuXing.value_counts()"
   ]
  },
  {
   "source": [
    "### 3.3朝向"
   ],
   "cell_type": "markdown",
   "metadata": {}
  },
  {
   "cell_type": "code",
   "execution_count": 31,
   "metadata": {},
   "outputs": [
    {
     "output_type": "execute_result",
     "data": {
      "text/plain": [
       "南         807\n",
       "南北        618\n",
       "北         171\n",
       "东南        136\n",
       "东          96\n",
       "西          82\n",
       "西南         80\n",
       "东北         56\n",
       "西北         42\n",
       "北南         19\n",
       "南西南        16\n",
       "南西         15\n",
       "东南南        14\n",
       "南东南        10\n",
       "东西          8\n",
       "南东          6\n",
       "东南北         6\n",
       "南西北         5\n",
       "南北西         4\n",
       "南东北         3\n",
       "西西北         3\n",
       "南西南北        3\n",
       "西南北         2\n",
       "北东北         2\n",
       "西北北         2\n",
       "西南西         2\n",
       "东南南西南       2\n",
       "东东南         2\n",
       "北东南         1\n",
       "东东南南西南      1\n",
       "北南西         1\n",
       "东南南北        1\n",
       "西南东南        1\n",
       "西东北         1\n",
       "东北北         1\n",
       "西南西南        1\n",
       "东东南南        1\n",
       "东南南东        1\n",
       "东西北         1\n",
       "北西          1\n",
       "东南东南        1\n",
       "东南南西西北      1\n",
       "东南西         1\n",
       "北东          1\n",
       "南西南西        1\n",
       "东南西北        1\n",
       "东北东北        1\n",
       "南北东         1\n",
       "西西北北        1\n",
       "Name: 朝向, dtype: int64"
      ]
     },
     "metadata": {},
     "execution_count": 31
    }
   ],
   "source": [
    "# 把其他朝向改为南\n",
    "X_ChaoXiang = df['朝向']\n",
    "X_ChaoXiang\n",
    "X_ChaoXiang.value_counts()"
   ]
  },
  {
   "cell_type": "code",
   "execution_count": 32,
   "metadata": {},
   "outputs": [
    {
     "output_type": "stream",
     "name": "stderr",
     "text": [
      "E:\\Anaconda3\\lib\\site-packages\\ipykernel_launcher.py:3: SettingWithCopyWarning: \nA value is trying to be set on a copy of a slice from a DataFrame\n\nSee the caveats in the documentation: https://pandas.pydata.org/pandas-docs/stable/user_guide/indexing.html#returning-a-view-versus-a-copy\n  This is separate from the ipykernel package so we can avoid doing imports until\n"
     ]
    },
    {
     "output_type": "execute_result",
     "data": {
      "text/plain": [
       "南    1884\n",
       "北     171\n",
       "东      96\n",
       "西      82\n",
       "Name: 朝向, dtype: int64"
      ]
     },
     "metadata": {},
     "execution_count": 32
    }
   ],
   "source": [
    "for i in range(df.shape[0]):\n",
    "    if X_ChaoXiang[i] != '南' and X_ChaoXiang[i] != '北' and X_ChaoXiang[i] != '西' and X_ChaoXiang[i] != '东':\n",
    "        X_ChaoXiang[i] = '南'\n",
    "X_ChaoXiang.value_counts()"
   ]
  },
  {
   "cell_type": "code",
   "execution_count": 33,
   "metadata": {},
   "outputs": [
    {
     "output_type": "execute_result",
     "data": {
      "text/plain": [
       "南    1884\n",
       "北     171\n",
       "东      96\n",
       "西      82\n",
       "Name: 朝向, dtype: int64"
      ]
     },
     "metadata": {},
     "execution_count": 33
    }
   ],
   "source": [
    "# 替换原数据\n",
    "pd.concat([df,X_ChaoXiang],axis=1)\n",
    "df['朝向'].value_counts()"
   ]
  },
  {
   "source": [
    "### 3.4装修"
   ],
   "cell_type": "markdown",
   "metadata": {}
  },
  {
   "cell_type": "code",
   "execution_count": 34,
   "metadata": {},
   "outputs": [
    {
     "output_type": "execute_result",
     "data": {
      "text/plain": [
       "精装    988\n",
       "简装    747\n",
       "其他    346\n",
       "毛坯    152\n",
       "Name: 装修, dtype: int64"
      ]
     },
     "metadata": {},
     "execution_count": 34
    }
   ],
   "source": [
    "# 把其他改为简装\n",
    "X_ZhuangXiu = df['装修']\n",
    "X_ZhuangXiu\n",
    "X_ZhuangXiu.value_counts()"
   ]
  },
  {
   "cell_type": "code",
   "execution_count": 35,
   "metadata": {},
   "outputs": [
    {
     "output_type": "stream",
     "name": "stderr",
     "text": [
      "E:\\Anaconda3\\lib\\site-packages\\ipykernel_launcher.py:3: SettingWithCopyWarning: \nA value is trying to be set on a copy of a slice from a DataFrame\n\nSee the caveats in the documentation: https://pandas.pydata.org/pandas-docs/stable/user_guide/indexing.html#returning-a-view-versus-a-copy\n  This is separate from the ipykernel package so we can avoid doing imports until\n"
     ]
    },
    {
     "output_type": "execute_result",
     "data": {
      "text/plain": [
       "简装    1093\n",
       "精装     988\n",
       "毛坯     152\n",
       "Name: 装修, dtype: int64"
      ]
     },
     "metadata": {},
     "execution_count": 35
    }
   ],
   "source": [
    "for i in range(df.shape[0]):\n",
    "    if X_ZhuangXiu[i] == '其他':\n",
    "        X_ZhuangXiu[i] = '简装'\n",
    "X_ZhuangXiu.value_counts()"
   ]
  },
  {
   "cell_type": "code",
   "execution_count": 36,
   "metadata": {},
   "outputs": [
    {
     "output_type": "execute_result",
     "data": {
      "text/plain": [
       "简装    1093\n",
       "精装     988\n",
       "毛坯     152\n",
       "Name: 装修, dtype: int64"
      ]
     },
     "metadata": {},
     "execution_count": 36
    }
   ],
   "source": [
    "pd.concat([df,X_ZhuangXiu],axis=1)\n",
    "df['装修'].value_counts()"
   ]
  },
  {
   "source": [
    "### 3.5板塔"
   ],
   "cell_type": "markdown",
   "metadata": {}
  },
  {
   "cell_type": "code",
   "execution_count": 37,
   "metadata": {},
   "outputs": [
    {
     "output_type": "execute_result",
     "data": {
      "text/plain": [
       "板楼      1227\n",
       "板塔结合     741\n",
       "塔楼       240\n",
       "暂无数据      24\n",
       "平房         1\n",
       "Name: 板塔, dtype: int64"
      ]
     },
     "metadata": {},
     "execution_count": 37
    }
   ],
   "source": [
    "# 板塔\n",
    "X_BanTa = df['板塔']\n",
    "X_BanTa\n",
    "X_BanTa.value_counts()"
   ]
  },
  {
   "cell_type": "code",
   "execution_count": 38,
   "metadata": {},
   "outputs": [
    {
     "output_type": "stream",
     "name": "stderr",
     "text": [
      "E:\\Anaconda3\\lib\\site-packages\\ipykernel_launcher.py:3: SettingWithCopyWarning: \nA value is trying to be set on a copy of a slice from a DataFrame\n\nSee the caveats in the documentation: https://pandas.pydata.org/pandas-docs/stable/user_guide/indexing.html#returning-a-view-versus-a-copy\n  This is separate from the ipykernel package so we can avoid doing imports until\n"
     ]
    },
    {
     "output_type": "execute_result",
     "data": {
      "text/plain": [
       "板楼      1252\n",
       "板塔结合     741\n",
       "塔楼       240\n",
       "Name: 板塔, dtype: int64"
      ]
     },
     "metadata": {},
     "execution_count": 38
    }
   ],
   "source": [
    "for i in range(df.shape[0]):\n",
    "    if X_BanTa[i] == '暂无数据' or X_BanTa[i] == '平房':\n",
    "        X_BanTa[i] = '板楼'\n",
    "X_BanTa.value_counts()"
   ]
  },
  {
   "cell_type": "code",
   "execution_count": 39,
   "metadata": {},
   "outputs": [
    {
     "output_type": "execute_result",
     "data": {
      "text/plain": [
       "      城市   区域    户型      面积 朝向  装修  楼层    板塔     房价\n",
       "0     郑州  高新区  3室2厅   87.27  南  精装  34    板楼  130.0\n",
       "1     郑州  高新区  4室2厅  131.03  南  精装  27  板塔结合  255.0\n",
       "2     郑州  高新区  4室2厅  128.21  南  精装  34    板楼  165.0\n",
       "3     郑州  高新区  3室1厅   87.74  南  简装   7    板楼  136.0\n",
       "4     郑州  高新区  3室2厅   90.65  南  精装  32  板塔结合  126.0\n",
       "...   ..  ...   ...     ... ..  ..  ..   ...    ...\n",
       "2228  郑州  高新区  3室1厅   45.87  南  精装  18    板楼  200.0\n",
       "2229  郑州  高新区  3室2厅  120.53  南  简装  32  板塔结合  210.0\n",
       "2230  郑州  高新区  2室1厅  120.53  西  简装   9    板楼   60.0\n",
       "2231  郑州  高新区  2室1厅  120.53  南  精装  20  板塔结合   68.0\n",
       "2232  郑州  高新区  3室2厅  128.14  南  毛坯  34    板楼  148.0\n",
       "\n",
       "[2233 rows x 9 columns]"
      ],
      "text/html": "<div>\n<style scoped>\n    .dataframe tbody tr th:only-of-type {\n        vertical-align: middle;\n    }\n\n    .dataframe tbody tr th {\n        vertical-align: top;\n    }\n\n    .dataframe thead th {\n        text-align: right;\n    }\n</style>\n<table border=\"1\" class=\"dataframe\">\n  <thead>\n    <tr style=\"text-align: right;\">\n      <th></th>\n      <th>城市</th>\n      <th>区域</th>\n      <th>户型</th>\n      <th>面积</th>\n      <th>朝向</th>\n      <th>装修</th>\n      <th>楼层</th>\n      <th>板塔</th>\n      <th>房价</th>\n    </tr>\n  </thead>\n  <tbody>\n    <tr>\n      <th>0</th>\n      <td>郑州</td>\n      <td>高新区</td>\n      <td>3室2厅</td>\n      <td>87.27</td>\n      <td>南</td>\n      <td>精装</td>\n      <td>34</td>\n      <td>板楼</td>\n      <td>130.0</td>\n    </tr>\n    <tr>\n      <th>1</th>\n      <td>郑州</td>\n      <td>高新区</td>\n      <td>4室2厅</td>\n      <td>131.03</td>\n      <td>南</td>\n      <td>精装</td>\n      <td>27</td>\n      <td>板塔结合</td>\n      <td>255.0</td>\n    </tr>\n    <tr>\n      <th>2</th>\n      <td>郑州</td>\n      <td>高新区</td>\n      <td>4室2厅</td>\n      <td>128.21</td>\n      <td>南</td>\n      <td>精装</td>\n      <td>34</td>\n      <td>板楼</td>\n      <td>165.0</td>\n    </tr>\n    <tr>\n      <th>3</th>\n      <td>郑州</td>\n      <td>高新区</td>\n      <td>3室1厅</td>\n      <td>87.74</td>\n      <td>南</td>\n      <td>简装</td>\n      <td>7</td>\n      <td>板楼</td>\n      <td>136.0</td>\n    </tr>\n    <tr>\n      <th>4</th>\n      <td>郑州</td>\n      <td>高新区</td>\n      <td>3室2厅</td>\n      <td>90.65</td>\n      <td>南</td>\n      <td>精装</td>\n      <td>32</td>\n      <td>板塔结合</td>\n      <td>126.0</td>\n    </tr>\n    <tr>\n      <th>...</th>\n      <td>...</td>\n      <td>...</td>\n      <td>...</td>\n      <td>...</td>\n      <td>...</td>\n      <td>...</td>\n      <td>...</td>\n      <td>...</td>\n      <td>...</td>\n    </tr>\n    <tr>\n      <th>2228</th>\n      <td>郑州</td>\n      <td>高新区</td>\n      <td>3室1厅</td>\n      <td>45.87</td>\n      <td>南</td>\n      <td>精装</td>\n      <td>18</td>\n      <td>板楼</td>\n      <td>200.0</td>\n    </tr>\n    <tr>\n      <th>2229</th>\n      <td>郑州</td>\n      <td>高新区</td>\n      <td>3室2厅</td>\n      <td>120.53</td>\n      <td>南</td>\n      <td>简装</td>\n      <td>32</td>\n      <td>板塔结合</td>\n      <td>210.0</td>\n    </tr>\n    <tr>\n      <th>2230</th>\n      <td>郑州</td>\n      <td>高新区</td>\n      <td>2室1厅</td>\n      <td>120.53</td>\n      <td>西</td>\n      <td>简装</td>\n      <td>9</td>\n      <td>板楼</td>\n      <td>60.0</td>\n    </tr>\n    <tr>\n      <th>2231</th>\n      <td>郑州</td>\n      <td>高新区</td>\n      <td>2室1厅</td>\n      <td>120.53</td>\n      <td>南</td>\n      <td>精装</td>\n      <td>20</td>\n      <td>板塔结合</td>\n      <td>68.0</td>\n    </tr>\n    <tr>\n      <th>2232</th>\n      <td>郑州</td>\n      <td>高新区</td>\n      <td>3室2厅</td>\n      <td>128.14</td>\n      <td>南</td>\n      <td>毛坯</td>\n      <td>34</td>\n      <td>板楼</td>\n      <td>148.0</td>\n    </tr>\n  </tbody>\n</table>\n<p>2233 rows × 9 columns</p>\n</div>"
     },
     "metadata": {},
     "execution_count": 39
    }
   ],
   "source": [
    "pd.concat([df,X_BanTa],axis=1)\n",
    "df['板塔'].value_counts()\n",
    "df"
   ]
  },
  {
   "source": [
    "## 4.处理文本类特征"
   ],
   "cell_type": "markdown",
   "metadata": {}
  },
  {
   "source": [
    "### 转为整型"
   ],
   "cell_type": "markdown",
   "metadata": {}
  },
  {
   "cell_type": "code",
   "execution_count": 40,
   "metadata": {},
   "outputs": [],
   "source": [
    "from sklearn.preprocessing import LabelEncoder\n",
    "encoder = LabelEncoder()\n",
    "# housing_cat = housing[\"ocean_proximity\"]\n",
    "# housing_cat是一个二维数组，一列存储行数，一列存储对应的ocean_proximity"
   ]
  },
  {
   "cell_type": "code",
   "execution_count": 41,
   "metadata": {},
   "outputs": [
    {
     "output_type": "stream",
     "name": "stderr",
     "text": [
      "E:\\Anaconda3\\lib\\site-packages\\ipykernel_launcher.py:3: SettingWithCopyWarning: \n",
      "A value is trying to be set on a copy of a slice from a DataFrame\n",
      "\n",
      "See the caveats in the documentation: https://pandas.pydata.org/pandas-docs/stable/user_guide/indexing.html#returning-a-view-versus-a-copy\n",
      "  This is separate from the ipykernel package so we can avoid doing imports until\n",
      "['1室0厅' '1室1厅' '1室2厅' '2室0厅' '2室1厅' '2室2厅' '3室1厅' '3室2厅' '4室1厅' '4室2厅'\n",
      " '4室3厅' '5室1厅' '5室2厅' '5室3厅' '6室2厅' '6室3厅' '6室7厅' '9室3厅']\n"
     ]
    }
   ],
   "source": [
    "X_HuXing = encoder.fit_transform(X_HuXing)\n",
    "for i in range(X_HuXing.size):\n",
    "    df['户型'][i] = X_HuXing[i]\n",
    "df['户型']\n",
    "# print(X_HuXing)\n",
    "# # 类型\n",
    "print(encoder.classes_)"
   ]
  },
  {
   "cell_type": "code",
   "execution_count": 42,
   "metadata": {},
   "outputs": [],
   "source": [
    "# X_ChaoXiang = encoder.fit_transform(X_ChaoXiang)\n",
    "# for i in range(X_ChaoXiang.size):\n",
    "#     df['朝向'][i] = X_ChaoXiang[i]\n",
    "# df['朝向']\n",
    "# # print(X_HuXing)\n",
    "# # # 类型\n",
    "# print(encoder.classes_)"
   ]
  },
  {
   "source": [
    "### 对文本类数据进行独热编码"
   ],
   "cell_type": "markdown",
   "metadata": {}
  },
  {
   "cell_type": "code",
   "execution_count": 43,
   "metadata": {},
   "outputs": [],
   "source": [
    "# df = pd.get_dummies(df,columns = ['户型','朝向','装修','板塔'])\n",
    "df = pd.get_dummies(df,columns = ['朝向','装修','板塔'])"
   ]
  },
  {
   "cell_type": "code",
   "execution_count": 44,
   "metadata": {},
   "outputs": [
    {
     "output_type": "execute_result",
     "data": {
      "text/plain": [
       "      城市   区域 户型      面积  楼层     房价  朝向_东  朝向_北  朝向_南  朝向_西  装修_毛坯  装修_简装  \\\n",
       "0     郑州  高新区  7   87.27  34  130.0     0     0     1     0      0      0   \n",
       "1     郑州  高新区  9  131.03  27  255.0     0     0     1     0      0      0   \n",
       "2     郑州  高新区  9  128.21  34  165.0     0     0     1     0      0      0   \n",
       "3     郑州  高新区  6   87.74   7  136.0     0     0     1     0      0      1   \n",
       "4     郑州  高新区  7   90.65  32  126.0     0     0     1     0      0      0   \n",
       "...   ..  ... ..     ...  ..    ...   ...   ...   ...   ...    ...    ...   \n",
       "2228  郑州  高新区  6   45.87  18  200.0     0     0     1     0      0      0   \n",
       "2229  郑州  高新区  7  120.53  32  210.0     0     0     1     0      0      1   \n",
       "2230  郑州  高新区  4  120.53   9   60.0     0     0     0     1      0      1   \n",
       "2231  郑州  高新区  4  120.53  20   68.0     0     0     1     0      0      0   \n",
       "2232  郑州  高新区  7  128.14  34  148.0     0     0     1     0      1      0   \n",
       "\n",
       "      装修_精装  板塔_塔楼  板塔_板塔结合  板塔_板楼  \n",
       "0         1      0        0      1  \n",
       "1         1      0        1      0  \n",
       "2         1      0        0      1  \n",
       "3         0      0        0      1  \n",
       "4         1      0        1      0  \n",
       "...     ...    ...      ...    ...  \n",
       "2228      1      0        0      1  \n",
       "2229      0      0        1      0  \n",
       "2230      0      0        0      1  \n",
       "2231      1      0        1      0  \n",
       "2232      0      0        0      1  \n",
       "\n",
       "[2233 rows x 16 columns]"
      ],
      "text/html": "<div>\n<style scoped>\n    .dataframe tbody tr th:only-of-type {\n        vertical-align: middle;\n    }\n\n    .dataframe tbody tr th {\n        vertical-align: top;\n    }\n\n    .dataframe thead th {\n        text-align: right;\n    }\n</style>\n<table border=\"1\" class=\"dataframe\">\n  <thead>\n    <tr style=\"text-align: right;\">\n      <th></th>\n      <th>城市</th>\n      <th>区域</th>\n      <th>户型</th>\n      <th>面积</th>\n      <th>楼层</th>\n      <th>房价</th>\n      <th>朝向_东</th>\n      <th>朝向_北</th>\n      <th>朝向_南</th>\n      <th>朝向_西</th>\n      <th>装修_毛坯</th>\n      <th>装修_简装</th>\n      <th>装修_精装</th>\n      <th>板塔_塔楼</th>\n      <th>板塔_板塔结合</th>\n      <th>板塔_板楼</th>\n    </tr>\n  </thead>\n  <tbody>\n    <tr>\n      <th>0</th>\n      <td>郑州</td>\n      <td>高新区</td>\n      <td>7</td>\n      <td>87.27</td>\n      <td>34</td>\n      <td>130.0</td>\n      <td>0</td>\n      <td>0</td>\n      <td>1</td>\n      <td>0</td>\n      <td>0</td>\n      <td>0</td>\n      <td>1</td>\n      <td>0</td>\n      <td>0</td>\n      <td>1</td>\n    </tr>\n    <tr>\n      <th>1</th>\n      <td>郑州</td>\n      <td>高新区</td>\n      <td>9</td>\n      <td>131.03</td>\n      <td>27</td>\n      <td>255.0</td>\n      <td>0</td>\n      <td>0</td>\n      <td>1</td>\n      <td>0</td>\n      <td>0</td>\n      <td>0</td>\n      <td>1</td>\n      <td>0</td>\n      <td>1</td>\n      <td>0</td>\n    </tr>\n    <tr>\n      <th>2</th>\n      <td>郑州</td>\n      <td>高新区</td>\n      <td>9</td>\n      <td>128.21</td>\n      <td>34</td>\n      <td>165.0</td>\n      <td>0</td>\n      <td>0</td>\n      <td>1</td>\n      <td>0</td>\n      <td>0</td>\n      <td>0</td>\n      <td>1</td>\n      <td>0</td>\n      <td>0</td>\n      <td>1</td>\n    </tr>\n    <tr>\n      <th>3</th>\n      <td>郑州</td>\n      <td>高新区</td>\n      <td>6</td>\n      <td>87.74</td>\n      <td>7</td>\n      <td>136.0</td>\n      <td>0</td>\n      <td>0</td>\n      <td>1</td>\n      <td>0</td>\n      <td>0</td>\n      <td>1</td>\n      <td>0</td>\n      <td>0</td>\n      <td>0</td>\n      <td>1</td>\n    </tr>\n    <tr>\n      <th>4</th>\n      <td>郑州</td>\n      <td>高新区</td>\n      <td>7</td>\n      <td>90.65</td>\n      <td>32</td>\n      <td>126.0</td>\n      <td>0</td>\n      <td>0</td>\n      <td>1</td>\n      <td>0</td>\n      <td>0</td>\n      <td>0</td>\n      <td>1</td>\n      <td>0</td>\n      <td>1</td>\n      <td>0</td>\n    </tr>\n    <tr>\n      <th>...</th>\n      <td>...</td>\n      <td>...</td>\n      <td>...</td>\n      <td>...</td>\n      <td>...</td>\n      <td>...</td>\n      <td>...</td>\n      <td>...</td>\n      <td>...</td>\n      <td>...</td>\n      <td>...</td>\n      <td>...</td>\n      <td>...</td>\n      <td>...</td>\n      <td>...</td>\n      <td>...</td>\n    </tr>\n    <tr>\n      <th>2228</th>\n      <td>郑州</td>\n      <td>高新区</td>\n      <td>6</td>\n      <td>45.87</td>\n      <td>18</td>\n      <td>200.0</td>\n      <td>0</td>\n      <td>0</td>\n      <td>1</td>\n      <td>0</td>\n      <td>0</td>\n      <td>0</td>\n      <td>1</td>\n      <td>0</td>\n      <td>0</td>\n      <td>1</td>\n    </tr>\n    <tr>\n      <th>2229</th>\n      <td>郑州</td>\n      <td>高新区</td>\n      <td>7</td>\n      <td>120.53</td>\n      <td>32</td>\n      <td>210.0</td>\n      <td>0</td>\n      <td>0</td>\n      <td>1</td>\n      <td>0</td>\n      <td>0</td>\n      <td>1</td>\n      <td>0</td>\n      <td>0</td>\n      <td>1</td>\n      <td>0</td>\n    </tr>\n    <tr>\n      <th>2230</th>\n      <td>郑州</td>\n      <td>高新区</td>\n      <td>4</td>\n      <td>120.53</td>\n      <td>9</td>\n      <td>60.0</td>\n      <td>0</td>\n      <td>0</td>\n      <td>0</td>\n      <td>1</td>\n      <td>0</td>\n      <td>1</td>\n      <td>0</td>\n      <td>0</td>\n      <td>0</td>\n      <td>1</td>\n    </tr>\n    <tr>\n      <th>2231</th>\n      <td>郑州</td>\n      <td>高新区</td>\n      <td>4</td>\n      <td>120.53</td>\n      <td>20</td>\n      <td>68.0</td>\n      <td>0</td>\n      <td>0</td>\n      <td>1</td>\n      <td>0</td>\n      <td>0</td>\n      <td>0</td>\n      <td>1</td>\n      <td>0</td>\n      <td>1</td>\n      <td>0</td>\n    </tr>\n    <tr>\n      <th>2232</th>\n      <td>郑州</td>\n      <td>高新区</td>\n      <td>7</td>\n      <td>128.14</td>\n      <td>34</td>\n      <td>148.0</td>\n      <td>0</td>\n      <td>0</td>\n      <td>1</td>\n      <td>0</td>\n      <td>1</td>\n      <td>0</td>\n      <td>0</td>\n      <td>0</td>\n      <td>0</td>\n      <td>1</td>\n    </tr>\n  </tbody>\n</table>\n<p>2233 rows × 16 columns</p>\n</div>"
     },
     "metadata": {},
     "execution_count": 44
    }
   ],
   "source": [
    "df"
   ]
  },
  {
   "source": [
    "### 获取列名"
   ],
   "cell_type": "markdown",
   "metadata": {}
  },
  {
   "cell_type": "code",
   "execution_count": 45,
   "metadata": {},
   "outputs": [
    {
     "output_type": "execute_result",
     "data": {
      "text/plain": [
       "array(['城市', '区域', '户型', '面积', '楼层', '房价', '朝向_东', '朝向_北', '朝向_南', '朝向_西',\n",
       "       '装修_毛坯', '装修_简装', '装修_精装', '板塔_塔楼', '板塔_板塔结合', '板塔_板楼'],\n",
       "      dtype=object)"
      ]
     },
     "metadata": {},
     "execution_count": 45
    }
   ],
   "source": [
    "columns = df.columns.values\n",
    "columns"
   ]
  },
  {
   "source": [
    "### 把房价放到最后"
   ],
   "cell_type": "markdown",
   "metadata": {}
  },
  {
   "cell_type": "code",
   "execution_count": 46,
   "metadata": {},
   "outputs": [
    {
     "output_type": "execute_result",
     "data": {
      "text/plain": [
       "      城市   区域 户型      面积  楼层  朝向_东  朝向_北  朝向_南  朝向_西  装修_毛坯  装修_简装  装修_精装  \\\n",
       "0     郑州  高新区  7   87.27  34     0     0     1     0      0      0      1   \n",
       "1     郑州  高新区  9  131.03  27     0     0     1     0      0      0      1   \n",
       "2     郑州  高新区  9  128.21  34     0     0     1     0      0      0      1   \n",
       "3     郑州  高新区  6   87.74   7     0     0     1     0      0      1      0   \n",
       "4     郑州  高新区  7   90.65  32     0     0     1     0      0      0      1   \n",
       "...   ..  ... ..     ...  ..   ...   ...   ...   ...    ...    ...    ...   \n",
       "2228  郑州  高新区  6   45.87  18     0     0     1     0      0      0      1   \n",
       "2229  郑州  高新区  7  120.53  32     0     0     1     0      0      1      0   \n",
       "2230  郑州  高新区  4  120.53   9     0     0     0     1      0      1      0   \n",
       "2231  郑州  高新区  4  120.53  20     0     0     1     0      0      0      1   \n",
       "2232  郑州  高新区  7  128.14  34     0     0     1     0      1      0      0   \n",
       "\n",
       "      板塔_塔楼  板塔_板塔结合  板塔_板楼  \n",
       "0         0        0      1  \n",
       "1         0        1      0  \n",
       "2         0        0      1  \n",
       "3         0        0      1  \n",
       "4         0        1      0  \n",
       "...     ...      ...    ...  \n",
       "2228      0        0      1  \n",
       "2229      0        1      0  \n",
       "2230      0        0      1  \n",
       "2231      0        1      0  \n",
       "2232      0        0      1  \n",
       "\n",
       "[2233 rows x 15 columns]"
      ],
      "text/html": "<div>\n<style scoped>\n    .dataframe tbody tr th:only-of-type {\n        vertical-align: middle;\n    }\n\n    .dataframe tbody tr th {\n        vertical-align: top;\n    }\n\n    .dataframe thead th {\n        text-align: right;\n    }\n</style>\n<table border=\"1\" class=\"dataframe\">\n  <thead>\n    <tr style=\"text-align: right;\">\n      <th></th>\n      <th>城市</th>\n      <th>区域</th>\n      <th>户型</th>\n      <th>面积</th>\n      <th>楼层</th>\n      <th>朝向_东</th>\n      <th>朝向_北</th>\n      <th>朝向_南</th>\n      <th>朝向_西</th>\n      <th>装修_毛坯</th>\n      <th>装修_简装</th>\n      <th>装修_精装</th>\n      <th>板塔_塔楼</th>\n      <th>板塔_板塔结合</th>\n      <th>板塔_板楼</th>\n    </tr>\n  </thead>\n  <tbody>\n    <tr>\n      <th>0</th>\n      <td>郑州</td>\n      <td>高新区</td>\n      <td>7</td>\n      <td>87.27</td>\n      <td>34</td>\n      <td>0</td>\n      <td>0</td>\n      <td>1</td>\n      <td>0</td>\n      <td>0</td>\n      <td>0</td>\n      <td>1</td>\n      <td>0</td>\n      <td>0</td>\n      <td>1</td>\n    </tr>\n    <tr>\n      <th>1</th>\n      <td>郑州</td>\n      <td>高新区</td>\n      <td>9</td>\n      <td>131.03</td>\n      <td>27</td>\n      <td>0</td>\n      <td>0</td>\n      <td>1</td>\n      <td>0</td>\n      <td>0</td>\n      <td>0</td>\n      <td>1</td>\n      <td>0</td>\n      <td>1</td>\n      <td>0</td>\n    </tr>\n    <tr>\n      <th>2</th>\n      <td>郑州</td>\n      <td>高新区</td>\n      <td>9</td>\n      <td>128.21</td>\n      <td>34</td>\n      <td>0</td>\n      <td>0</td>\n      <td>1</td>\n      <td>0</td>\n      <td>0</td>\n      <td>0</td>\n      <td>1</td>\n      <td>0</td>\n      <td>0</td>\n      <td>1</td>\n    </tr>\n    <tr>\n      <th>3</th>\n      <td>郑州</td>\n      <td>高新区</td>\n      <td>6</td>\n      <td>87.74</td>\n      <td>7</td>\n      <td>0</td>\n      <td>0</td>\n      <td>1</td>\n      <td>0</td>\n      <td>0</td>\n      <td>1</td>\n      <td>0</td>\n      <td>0</td>\n      <td>0</td>\n      <td>1</td>\n    </tr>\n    <tr>\n      <th>4</th>\n      <td>郑州</td>\n      <td>高新区</td>\n      <td>7</td>\n      <td>90.65</td>\n      <td>32</td>\n      <td>0</td>\n      <td>0</td>\n      <td>1</td>\n      <td>0</td>\n      <td>0</td>\n      <td>0</td>\n      <td>1</td>\n      <td>0</td>\n      <td>1</td>\n      <td>0</td>\n    </tr>\n    <tr>\n      <th>...</th>\n      <td>...</td>\n      <td>...</td>\n      <td>...</td>\n      <td>...</td>\n      <td>...</td>\n      <td>...</td>\n      <td>...</td>\n      <td>...</td>\n      <td>...</td>\n      <td>...</td>\n      <td>...</td>\n      <td>...</td>\n      <td>...</td>\n      <td>...</td>\n      <td>...</td>\n    </tr>\n    <tr>\n      <th>2228</th>\n      <td>郑州</td>\n      <td>高新区</td>\n      <td>6</td>\n      <td>45.87</td>\n      <td>18</td>\n      <td>0</td>\n      <td>0</td>\n      <td>1</td>\n      <td>0</td>\n      <td>0</td>\n      <td>0</td>\n      <td>1</td>\n      <td>0</td>\n      <td>0</td>\n      <td>1</td>\n    </tr>\n    <tr>\n      <th>2229</th>\n      <td>郑州</td>\n      <td>高新区</td>\n      <td>7</td>\n      <td>120.53</td>\n      <td>32</td>\n      <td>0</td>\n      <td>0</td>\n      <td>1</td>\n      <td>0</td>\n      <td>0</td>\n      <td>1</td>\n      <td>0</td>\n      <td>0</td>\n      <td>1</td>\n      <td>0</td>\n    </tr>\n    <tr>\n      <th>2230</th>\n      <td>郑州</td>\n      <td>高新区</td>\n      <td>4</td>\n      <td>120.53</td>\n      <td>9</td>\n      <td>0</td>\n      <td>0</td>\n      <td>0</td>\n      <td>1</td>\n      <td>0</td>\n      <td>1</td>\n      <td>0</td>\n      <td>0</td>\n      <td>0</td>\n      <td>1</td>\n    </tr>\n    <tr>\n      <th>2231</th>\n      <td>郑州</td>\n      <td>高新区</td>\n      <td>4</td>\n      <td>120.53</td>\n      <td>20</td>\n      <td>0</td>\n      <td>0</td>\n      <td>1</td>\n      <td>0</td>\n      <td>0</td>\n      <td>0</td>\n      <td>1</td>\n      <td>0</td>\n      <td>1</td>\n      <td>0</td>\n    </tr>\n    <tr>\n      <th>2232</th>\n      <td>郑州</td>\n      <td>高新区</td>\n      <td>7</td>\n      <td>128.14</td>\n      <td>34</td>\n      <td>0</td>\n      <td>0</td>\n      <td>1</td>\n      <td>0</td>\n      <td>1</td>\n      <td>0</td>\n      <td>0</td>\n      <td>0</td>\n      <td>0</td>\n      <td>1</td>\n    </tr>\n  </tbody>\n</table>\n<p>2233 rows × 15 columns</p>\n</div>"
     },
     "metadata": {},
     "execution_count": 46
    }
   ],
   "source": [
    "price = df.pop('房价')\n",
    "df"
   ]
  },
  {
   "cell_type": "code",
   "execution_count": 47,
   "metadata": {},
   "outputs": [
    {
     "output_type": "execute_result",
     "data": {
      "text/plain": [
       "      城市   区域 户型      面积  楼层  朝向_东  朝向_北  朝向_南  朝向_西  装修_毛坯  装修_简装  装修_精装  \\\n",
       "0     郑州  高新区  7   87.27  34     0     0     1     0      0      0      1   \n",
       "1     郑州  高新区  9  131.03  27     0     0     1     0      0      0      1   \n",
       "2     郑州  高新区  9  128.21  34     0     0     1     0      0      0      1   \n",
       "3     郑州  高新区  6   87.74   7     0     0     1     0      0      1      0   \n",
       "4     郑州  高新区  7   90.65  32     0     0     1     0      0      0      1   \n",
       "...   ..  ... ..     ...  ..   ...   ...   ...   ...    ...    ...    ...   \n",
       "2228  郑州  高新区  6   45.87  18     0     0     1     0      0      0      1   \n",
       "2229  郑州  高新区  7  120.53  32     0     0     1     0      0      1      0   \n",
       "2230  郑州  高新区  4  120.53   9     0     0     0     1      0      1      0   \n",
       "2231  郑州  高新区  4  120.53  20     0     0     1     0      0      0      1   \n",
       "2232  郑州  高新区  7  128.14  34     0     0     1     0      1      0      0   \n",
       "\n",
       "      板塔_塔楼  板塔_板塔结合  板塔_板楼     房价  \n",
       "0         0        0      1  130.0  \n",
       "1         0        1      0  255.0  \n",
       "2         0        0      1  165.0  \n",
       "3         0        0      1  136.0  \n",
       "4         0        1      0  126.0  \n",
       "...     ...      ...    ...    ...  \n",
       "2228      0        0      1  200.0  \n",
       "2229      0        1      0  210.0  \n",
       "2230      0        0      1   60.0  \n",
       "2231      0        1      0   68.0  \n",
       "2232      0        0      1  148.0  \n",
       "\n",
       "[2233 rows x 16 columns]"
      ],
      "text/html": "<div>\n<style scoped>\n    .dataframe tbody tr th:only-of-type {\n        vertical-align: middle;\n    }\n\n    .dataframe tbody tr th {\n        vertical-align: top;\n    }\n\n    .dataframe thead th {\n        text-align: right;\n    }\n</style>\n<table border=\"1\" class=\"dataframe\">\n  <thead>\n    <tr style=\"text-align: right;\">\n      <th></th>\n      <th>城市</th>\n      <th>区域</th>\n      <th>户型</th>\n      <th>面积</th>\n      <th>楼层</th>\n      <th>朝向_东</th>\n      <th>朝向_北</th>\n      <th>朝向_南</th>\n      <th>朝向_西</th>\n      <th>装修_毛坯</th>\n      <th>装修_简装</th>\n      <th>装修_精装</th>\n      <th>板塔_塔楼</th>\n      <th>板塔_板塔结合</th>\n      <th>板塔_板楼</th>\n      <th>房价</th>\n    </tr>\n  </thead>\n  <tbody>\n    <tr>\n      <th>0</th>\n      <td>郑州</td>\n      <td>高新区</td>\n      <td>7</td>\n      <td>87.27</td>\n      <td>34</td>\n      <td>0</td>\n      <td>0</td>\n      <td>1</td>\n      <td>0</td>\n      <td>0</td>\n      <td>0</td>\n      <td>1</td>\n      <td>0</td>\n      <td>0</td>\n      <td>1</td>\n      <td>130.0</td>\n    </tr>\n    <tr>\n      <th>1</th>\n      <td>郑州</td>\n      <td>高新区</td>\n      <td>9</td>\n      <td>131.03</td>\n      <td>27</td>\n      <td>0</td>\n      <td>0</td>\n      <td>1</td>\n      <td>0</td>\n      <td>0</td>\n      <td>0</td>\n      <td>1</td>\n      <td>0</td>\n      <td>1</td>\n      <td>0</td>\n      <td>255.0</td>\n    </tr>\n    <tr>\n      <th>2</th>\n      <td>郑州</td>\n      <td>高新区</td>\n      <td>9</td>\n      <td>128.21</td>\n      <td>34</td>\n      <td>0</td>\n      <td>0</td>\n      <td>1</td>\n      <td>0</td>\n      <td>0</td>\n      <td>0</td>\n      <td>1</td>\n      <td>0</td>\n      <td>0</td>\n      <td>1</td>\n      <td>165.0</td>\n    </tr>\n    <tr>\n      <th>3</th>\n      <td>郑州</td>\n      <td>高新区</td>\n      <td>6</td>\n      <td>87.74</td>\n      <td>7</td>\n      <td>0</td>\n      <td>0</td>\n      <td>1</td>\n      <td>0</td>\n      <td>0</td>\n      <td>1</td>\n      <td>0</td>\n      <td>0</td>\n      <td>0</td>\n      <td>1</td>\n      <td>136.0</td>\n    </tr>\n    <tr>\n      <th>4</th>\n      <td>郑州</td>\n      <td>高新区</td>\n      <td>7</td>\n      <td>90.65</td>\n      <td>32</td>\n      <td>0</td>\n      <td>0</td>\n      <td>1</td>\n      <td>0</td>\n      <td>0</td>\n      <td>0</td>\n      <td>1</td>\n      <td>0</td>\n      <td>1</td>\n      <td>0</td>\n      <td>126.0</td>\n    </tr>\n    <tr>\n      <th>...</th>\n      <td>...</td>\n      <td>...</td>\n      <td>...</td>\n      <td>...</td>\n      <td>...</td>\n      <td>...</td>\n      <td>...</td>\n      <td>...</td>\n      <td>...</td>\n      <td>...</td>\n      <td>...</td>\n      <td>...</td>\n      <td>...</td>\n      <td>...</td>\n      <td>...</td>\n      <td>...</td>\n    </tr>\n    <tr>\n      <th>2228</th>\n      <td>郑州</td>\n      <td>高新区</td>\n      <td>6</td>\n      <td>45.87</td>\n      <td>18</td>\n      <td>0</td>\n      <td>0</td>\n      <td>1</td>\n      <td>0</td>\n      <td>0</td>\n      <td>0</td>\n      <td>1</td>\n      <td>0</td>\n      <td>0</td>\n      <td>1</td>\n      <td>200.0</td>\n    </tr>\n    <tr>\n      <th>2229</th>\n      <td>郑州</td>\n      <td>高新区</td>\n      <td>7</td>\n      <td>120.53</td>\n      <td>32</td>\n      <td>0</td>\n      <td>0</td>\n      <td>1</td>\n      <td>0</td>\n      <td>0</td>\n      <td>1</td>\n      <td>0</td>\n      <td>0</td>\n      <td>1</td>\n      <td>0</td>\n      <td>210.0</td>\n    </tr>\n    <tr>\n      <th>2230</th>\n      <td>郑州</td>\n      <td>高新区</td>\n      <td>4</td>\n      <td>120.53</td>\n      <td>9</td>\n      <td>0</td>\n      <td>0</td>\n      <td>0</td>\n      <td>1</td>\n      <td>0</td>\n      <td>1</td>\n      <td>0</td>\n      <td>0</td>\n      <td>0</td>\n      <td>1</td>\n      <td>60.0</td>\n    </tr>\n    <tr>\n      <th>2231</th>\n      <td>郑州</td>\n      <td>高新区</td>\n      <td>4</td>\n      <td>120.53</td>\n      <td>20</td>\n      <td>0</td>\n      <td>0</td>\n      <td>1</td>\n      <td>0</td>\n      <td>0</td>\n      <td>0</td>\n      <td>1</td>\n      <td>0</td>\n      <td>1</td>\n      <td>0</td>\n      <td>68.0</td>\n    </tr>\n    <tr>\n      <th>2232</th>\n      <td>郑州</td>\n      <td>高新区</td>\n      <td>7</td>\n      <td>128.14</td>\n      <td>34</td>\n      <td>0</td>\n      <td>0</td>\n      <td>1</td>\n      <td>0</td>\n      <td>1</td>\n      <td>0</td>\n      <td>0</td>\n      <td>0</td>\n      <td>0</td>\n      <td>1</td>\n      <td>148.0</td>\n    </tr>\n  </tbody>\n</table>\n<p>2233 rows × 16 columns</p>\n</div>"
     },
     "metadata": {},
     "execution_count": 47
    }
   ],
   "source": [
    "df.insert(loc=df.shape[1], column='房价', value=price, allow_duplicates=False)\n",
    "df"
   ]
  },
  {
   "source": [
    "## 5.导出处理好的文件"
   ],
   "cell_type": "markdown",
   "metadata": {}
  },
  {
   "cell_type": "code",
   "execution_count": 48,
   "metadata": {},
   "outputs": [],
   "source": [
    "df.to_csv('郑州高新区数据.csv',sep = '|',index=None)"
   ]
  },
  {
   "cell_type": "code",
   "execution_count": null,
   "metadata": {},
   "outputs": [],
   "source": []
  }
 ]
}