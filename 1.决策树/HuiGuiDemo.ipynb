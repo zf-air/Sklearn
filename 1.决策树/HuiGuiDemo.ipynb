{
 "metadata": {
  "language_info": {
   "codemirror_mode": {
    "name": "ipython",
    "version": 3
   },
   "file_extension": ".py",
   "mimetype": "text/x-python",
   "name": "python",
   "nbconvert_exporter": "python",
   "pygments_lexer": "ipython3",
   "version": "3.7.6-final"
  },
  "orig_nbformat": 2,
  "kernelspec": {
   "name": "python376jvsc74a57bd04905652b14e4b7eb92899b78ac499a22c488804455b27940a322fd82aaf71031",
   "display_name": "Python 3.7.6 64-bit (conda)"
  },
  "metadata": {
   "interpreter": {
    "hash": "4905652b14e4b7eb92899b78ac499a22c488804455b27940a322fd82aaf71031"
   }
  }
 },
 "nbformat": 4,
 "nbformat_minor": 2,
 "cells": [
  {
   "cell_type": "code",
   "execution_count": 2,
   "metadata": {},
   "outputs": [],
   "source": [
    "import numpy as np\n",
    "from sklearn.tree import DecisionTreeRegressor\n",
    "import matplotlib.pyplot as plt"
   ]
  },
  {
   "cell_type": "code",
   "execution_count": 3,
   "metadata": {},
   "outputs": [],
   "source": [
    "rng = np.random.RandomState(1) #随机数种子"
   ]
  },
  {
   "cell_type": "code",
   "execution_count": 4,
   "metadata": {},
   "outputs": [
    {
     "output_type": "execute_result",
     "data": {
      "text/plain": [
       "array([[2.08511002e+00],\n",
       "       [3.60162247e+00],\n",
       "       [5.71874087e-04],\n",
       "       [1.51166286e+00],\n",
       "       [7.33779454e-01],\n",
       "       [4.61692974e-01],\n",
       "       [9.31301057e-01],\n",
       "       [1.72780364e+00],\n",
       "       [1.98383737e+00],\n",
       "       [2.69408367e+00]])"
      ]
     },
     "metadata": {},
     "execution_count": 4
    }
   ],
   "source": [
    "# 生成10个0到1之间的随机数,80行1列，二维数据\n",
    "5*rng.rand(10,1)"
   ]
  },
  {
   "cell_type": "code",
   "execution_count": 5,
   "metadata": {},
   "outputs": [],
   "source": [
    "# 升序排序\n",
    "X = np.sort(5*rng.rand(80,1),axis=0)"
   ]
  },
  {
   "cell_type": "code",
   "execution_count": 6,
   "metadata": {},
   "outputs": [
    {
     "output_type": "execute_result",
     "data": {
      "text/plain": [
       "array([[ 0.09131401],\n",
       "       [ 0.09668352],\n",
       "       [ 0.13651039],\n",
       "       [ 0.19403525],\n",
       "       [ 0.24717848],\n",
       "       [ 0.26365828],\n",
       "       [ 0.41252216],\n",
       "       [ 0.47215529],\n",
       "       [ 0.48963592],\n",
       "       [ 0.49351799],\n",
       "       [ 0.60530013],\n",
       "       [ 0.63450933],\n",
       "       [ 0.64144608],\n",
       "       [ 0.64569622],\n",
       "       [ 0.66957978],\n",
       "       [ 0.73574834],\n",
       "       [ 0.75072053],\n",
       "       [ 0.8363043 ],\n",
       "       [ 0.8532893 ],\n",
       "       [ 0.87144496],\n",
       "       [ 0.97060533],\n",
       "       [ 0.97564433],\n",
       "       [ 0.98582462],\n",
       "       [ 0.99131122],\n",
       "       [ 0.99472837],\n",
       "       [ 0.99999325],\n",
       "       [ 0.999977  ],\n",
       "       [ 0.98591565],\n",
       "       [ 0.98495285],\n",
       "       [ 0.91406986],\n",
       "       [ 0.87783001],\n",
       "       [ 0.8775346 ],\n",
       "       [ 0.86993408],\n",
       "       [ 0.86523559],\n",
       "       [ 0.86040024],\n",
       "       [ 0.8420846 ],\n",
       "       [ 0.78464608],\n",
       "       [ 0.63168655],\n",
       "       [ 0.53722799],\n",
       "       [ 0.45801971],\n",
       "       [ 0.44583835],\n",
       "       [ 0.34115328],\n",
       "       [ 0.26769953],\n",
       "       [ 0.20730318],\n",
       "       [ 0.19383027],\n",
       "       [ 0.033108  ],\n",
       "       [ 0.02322953],\n",
       "       [-0.17471355],\n",
       "       [-0.17645185],\n",
       "       [-0.20918837],\n",
       "       [-0.24990778],\n",
       "       [-0.28068224],\n",
       "       [-0.28682601],\n",
       "       [-0.31247075],\n",
       "       [-0.31458595],\n",
       "       [-0.32442911],\n",
       "       [-0.34965155],\n",
       "       [-0.46921115],\n",
       "       [-0.56401144],\n",
       "       [-0.57215326],\n",
       "       [-0.57488849],\n",
       "       [-0.57542157],\n",
       "       [-0.72069477],\n",
       "       [-0.75923066],\n",
       "       [-0.78043659],\n",
       "       [-0.85808859],\n",
       "       [-0.94589863],\n",
       "       [-0.94866709],\n",
       "       [-0.94870673],\n",
       "       [-0.95655218],\n",
       "       [-0.97149093],\n",
       "       [-0.9729878 ],\n",
       "       [-0.98097408],\n",
       "       [-0.98568417],\n",
       "       [-0.99720034],\n",
       "       [-0.99994398],\n",
       "       [-0.99703245],\n",
       "       [-0.99375563],\n",
       "       [-0.99170146],\n",
       "       [-0.9732277 ]])"
      ]
     },
     "metadata": {},
     "execution_count": 6
    }
   ],
   "source": [
    "np.sin(X) # 是二维的"
   ]
  },
  {
   "cell_type": "code",
   "execution_count": 7,
   "metadata": {},
   "outputs": [
    {
     "output_type": "execute_result",
     "data": {
      "text/plain": [
       "array([ 0.09131401,  0.09668352,  0.13651039,  0.19403525,  0.24717848,\n",
       "        0.26365828,  0.41252216,  0.47215529,  0.48963592,  0.49351799,\n",
       "        0.60530013,  0.63450933,  0.64144608,  0.64569622,  0.66957978,\n",
       "        0.73574834,  0.75072053,  0.8363043 ,  0.8532893 ,  0.87144496,\n",
       "        0.97060533,  0.97564433,  0.98582462,  0.99131122,  0.99472837,\n",
       "        0.99999325,  0.999977  ,  0.98591565,  0.98495285,  0.91406986,\n",
       "        0.87783001,  0.8775346 ,  0.86993408,  0.86523559,  0.86040024,\n",
       "        0.8420846 ,  0.78464608,  0.63168655,  0.53722799,  0.45801971,\n",
       "        0.44583835,  0.34115328,  0.26769953,  0.20730318,  0.19383027,\n",
       "        0.033108  ,  0.02322953, -0.17471355, -0.17645185, -0.20918837,\n",
       "       -0.24990778, -0.28068224, -0.28682601, -0.31247075, -0.31458595,\n",
       "       -0.32442911, -0.34965155, -0.46921115, -0.56401144, -0.57215326,\n",
       "       -0.57488849, -0.57542157, -0.72069477, -0.75923066, -0.78043659,\n",
       "       -0.85808859, -0.94589863, -0.94866709, -0.94870673, -0.95655218,\n",
       "       -0.97149093, -0.9729878 , -0.98097408, -0.98568417, -0.99720034,\n",
       "       -0.99994398, -0.99703245, -0.99375563, -0.99170146, -0.9732277 ])"
      ]
     },
     "metadata": {},
     "execution_count": 7
    }
   ],
   "source": [
    "# 降维,ravel()函数\n",
    "y = np.sin(X).ravel()\n",
    "y"
   ]
  },
  {
   "cell_type": "code",
   "execution_count": 8,
   "metadata": {},
   "outputs": [
    {
     "output_type": "execute_result",
     "data": {
      "text/plain": [
       "(80,)"
      ]
     },
     "metadata": {},
     "execution_count": 8
    }
   ],
   "source": [
    "y.shape #一维数组不分行列"
   ]
  },
  {
   "cell_type": "code",
   "execution_count": 9,
   "metadata": {},
   "outputs": [],
   "source": [
    "# 5是步长 (0.5 - rng.rand(16))范围划到-0.5~0.5\n",
    "y[::5] += 3 * (0.5 - rng.rand(16)) #在正弦曲线上加噪声"
   ]
  },
  {
   "cell_type": "code",
   "execution_count": 10,
   "metadata": {},
   "outputs": [
    {
     "output_type": "execute_result",
     "data": {
      "text/plain": [
       "array([ 1.24707609, -1.08480949,  0.75556373,  0.5005795 ,  1.24619492,\n",
       "        1.7889123 , -0.33230855,  0.62104614,  1.93722737, -0.31832674,\n",
       "        0.27015752, -0.40560342, -1.73271479, -0.42989787, -2.19709639,\n",
       "       -1.37002433])"
      ]
     },
     "metadata": {},
     "execution_count": 10
    }
   ],
   "source": [
    "y[::5]"
   ]
  },
  {
   "cell_type": "code",
   "execution_count": 11,
   "metadata": {},
   "outputs": [
    {
     "output_type": "execute_result",
     "data": {
      "text/plain": [
       "array([ 1.24707609,  0.09668352,  0.13651039,  0.19403525,  0.24717848,\n",
       "       -1.08480949,  0.41252216,  0.47215529,  0.48963592,  0.49351799,\n",
       "        0.75556373,  0.63450933,  0.64144608,  0.64569622,  0.66957978,\n",
       "        0.5005795 ,  0.75072053,  0.8363043 ,  0.8532893 ,  0.87144496,\n",
       "        1.24619492,  0.97564433,  0.98582462,  0.99131122,  0.99472837,\n",
       "        1.7889123 ,  0.999977  ,  0.98591565,  0.98495285,  0.91406986,\n",
       "       -0.33230855,  0.8775346 ,  0.86993408,  0.86523559,  0.86040024,\n",
       "        0.62104614,  0.78464608,  0.63168655,  0.53722799,  0.45801971,\n",
       "        1.93722737,  0.34115328,  0.26769953,  0.20730318,  0.19383027,\n",
       "       -0.31832674,  0.02322953, -0.17471355, -0.17645185, -0.20918837,\n",
       "        0.27015752, -0.28068224, -0.28682601, -0.31247075, -0.31458595,\n",
       "       -0.40560342, -0.34965155, -0.46921115, -0.56401144, -0.57215326,\n",
       "       -1.73271479, -0.57542157, -0.72069477, -0.75923066, -0.78043659,\n",
       "       -0.42989787, -0.94589863, -0.94866709, -0.94870673, -0.95655218,\n",
       "       -2.19709639, -0.9729878 , -0.98097408, -0.98568417, -0.99720034,\n",
       "       -1.37002433, -0.99703245, -0.99375563, -0.99170146, -0.9732277 ])"
      ]
     },
     "metadata": {},
     "execution_count": 11
    }
   ],
   "source": [
    "y"
   ]
  },
  {
   "cell_type": "code",
   "execution_count": 12,
   "metadata": {},
   "outputs": [
    {
     "output_type": "display_data",
     "data": {
      "text/plain": "<Figure size 432x288 with 1 Axes>",
      "image/png": "[encoded data removed]"
     },
     "metadata": {
      "needs_background": "light"
     }
    }
   ],
   "source": [
    "%matplotlib inline\n",
    "plt.figure()\n",
    "plt.scatter(X, y, s=20, edgecolor=\"black\",c=\"darkorange\", label=\"data\")\n",
    "plt.show()"
   ]
  },
  {
   "cell_type": "code",
   "execution_count": 13,
   "metadata": {},
   "outputs": [
    {
     "output_type": "execute_result",
     "data": {
      "text/plain": [
       "(2,)"
      ]
     },
     "metadata": {},
     "execution_count": 13
    }
   ],
   "source": [
    "#了解降维函数ravel()的用法,把任何维数都降到一维\n",
    "np.random.random((2,1))\n",
    "np.random.random((2,1)).ravel()\n",
    "np.random.random((2,1)).ravel().shape"
   ]
  },
  {
   "cell_type": "code",
   "execution_count": 31,
   "metadata": {},
   "outputs": [
    {
     "output_type": "execute_result",
     "data": {
      "text/plain": [
       "DecisionTreeRegressor(max_depth=5)"
      ]
     },
     "metadata": {},
     "execution_count": 31
    }
   ],
   "source": [
    "regr_1 = DecisionTreeRegressor(max_depth=3)\n",
    "regr_2 = DecisionTreeRegressor(max_depth=5)\n",
    "regr_1.fit(X, y)\n",
    "regr_2.fit(X, y)"
   ]
  },
  {
   "cell_type": "code",
   "execution_count": 32,
   "metadata": {},
   "outputs": [],
   "source": [
    "X_test = np.arange(0.0, 5.0, 0.01)[:, np.newaxis]\n",
    "# X_test"
   ]
  },
  {
   "cell_type": "code",
   "execution_count": 33,
   "metadata": {},
   "outputs": [
    {
     "output_type": "execute_result",
     "data": {
      "text/plain": [
       "array([0.  , 0.01, 0.02, 0.03, 0.04, 0.05, 0.06, 0.07, 0.08, 0.09, 0.1 ,\n",
       "       0.11, 0.12, 0.13, 0.14, 0.15, 0.16, 0.17, 0.18, 0.19, 0.2 , 0.21,\n",
       "       0.22, 0.23, 0.24, 0.25, 0.26, 0.27, 0.28, 0.29, 0.3 , 0.31, 0.32,\n",
       "       0.33, 0.34, 0.35, 0.36, 0.37, 0.38, 0.39, 0.4 , 0.41, 0.42, 0.43,\n",
       "       0.44, 0.45, 0.46, 0.47, 0.48, 0.49])"
      ]
     },
     "metadata": {},
     "execution_count": 33
    }
   ],
   "source": [
    "# 开始点，结束点，步长,生成有序数组\n",
    "np.arange(0.0,0.5,0.01)"
   ]
  },
  {
   "cell_type": "code",
   "execution_count": 34,
   "metadata": {},
   "outputs": [
    {
     "output_type": "execute_result",
     "data": {
      "text/plain": [
       "(4,)"
      ]
     },
     "metadata": {},
     "execution_count": 34
    }
   ],
   "source": [
    "#了解增维切片np.newaxis的用法，一维变二维\n",
    "l = np.array([1,2,3,4])\n",
    "l.shape"
   ]
  },
  {
   "cell_type": "code",
   "execution_count": 35,
   "metadata": {},
   "outputs": [
    {
     "output_type": "execute_result",
     "data": {
      "text/plain": [
       "array([[1],\n",
       "       [2],\n",
       "       [3],\n",
       "       [4]])"
      ]
     },
     "metadata": {},
     "execution_count": 35
    }
   ],
   "source": [
    "l[:,np.newaxis]"
   ]
  },
  {
   "cell_type": "code",
   "execution_count": 36,
   "metadata": {},
   "outputs": [
    {
     "output_type": "execute_result",
     "data": {
      "text/plain": [
       "(4, 1)"
      ]
     },
     "metadata": {},
     "execution_count": 36
    }
   ],
   "source": [
    "l[:,np.newaxis].shape"
   ]
  },
  {
   "cell_type": "code",
   "execution_count": 37,
   "metadata": {},
   "outputs": [
    {
     "output_type": "execute_result",
     "data": {
      "text/plain": [
       "(1, 4)"
      ]
     },
     "metadata": {},
     "execution_count": 37
    }
   ],
   "source": [
    "l[np.newaxis,:].shape #反过来写"
   ]
  },
  {
   "cell_type": "code",
   "execution_count": 38,
   "metadata": {},
   "outputs": [],
   "source": [
    "y_1 = regr_1.predict(X_test)\n",
    "y_2 = regr_2.predict(X_test)"
   ]
  },
  {
   "cell_type": "code",
   "execution_count": 39,
   "metadata": {},
   "outputs": [],
   "source": [
    "# y_1"
   ]
  },
  {
   "cell_type": "code",
   "execution_count": 40,
   "metadata": {},
   "outputs": [
    {
     "output_type": "stream",
     "name": "stdout",
     "text": [
      "Using matplotlib backend: Qt5Agg\n"
     ]
    }
   ],
   "source": [
    "%matplotlib\n",
    "plt.figure()\n",
    "# s代表大小，label是y轴的标签\n",
    "plt.scatter(X, y, s=20, edgecolor=\"black\",c=\"darkorange\", label=\"data\")\n",
    "plt.plot(X_test, y_1, color=\"cornflowerblue\",label=\"max_depth=3\", linewidth=2)\n",
    "plt.plot(X_test, y_2, color=\"yellowgreen\", label=\"max_depth=5\", linewidth=2)\n",
    "plt.xlabel(\"data\")\n",
    "plt.ylabel(\"target\")\n",
    "plt.title(\"Decision Tree Regression\")\n",
    "plt.legend()\n",
    "plt.show()"
   ]
  },
  {
   "cell_type": "code",
   "execution_count": null,
   "metadata": {},
   "outputs": [],
   "source": []
  }
 ]
}